{
 "cells": [
  {
   "cell_type": "markdown",
   "id": "902b076a",
   "metadata": {},
   "source": [
    "# Orbit\n",
    "## 1. Setup\n",
    "### 1.1 Config"
   ]
  },
  {
   "cell_type": "code",
   "execution_count": 1,
   "id": "d917a83f",
   "metadata": {},
   "outputs": [],
   "source": [
    "# MLflow model path\n",
    "model_path = \"model\"\n",
    "\n",
    "# prediction config for pyfunc flavor\n",
    "pyfunc_predict_conf = {\n",
    "        \"decompose\": True,\n",
    "        \"seed\": 43,\n",
    "}"
   ]
  },
  {
   "cell_type": "markdown",
   "id": "4a9c1f0e",
   "metadata": {},
   "source": [
    "### 1.2 Imports"
   ]
  },
  {
   "cell_type": "code",
   "execution_count": 2,
   "id": "c2c45739",
   "metadata": {},
   "outputs": [
    {
     "name": "stderr",
     "output_type": "stream",
     "text": [
      "/home/benjamin/PycharmProjects/mlflow_flavors/.venv/lib/python3.8/site-packages/tqdm/auto.py:22: TqdmWarning: IProgress not found. Please update jupyter and ipywidgets. See https://ipywidgets.readthedocs.io/en/stable/user_install.html\n",
      "  from .autonotebook import tqdm as notebook_tqdm\n"
     ]
    }
   ],
   "source": [
    "import mlflow\n",
    "import mlflow_flavors\n",
    "from mlflow.models import infer_signature\n",
    "from orbit.models import DLT\n",
    "from orbit.utils.dataset import load_iclaims\n",
    "import pandas as pd"
   ]
  },
  {
   "cell_type": "markdown",
   "id": "5d5a238d",
   "metadata": {},
   "source": [
    "### 1.3 Load sample data"
   ]
  },
  {
   "cell_type": "code",
   "execution_count": 3,
   "id": "268890ad",
   "metadata": {},
   "outputs": [
    {
     "data": {
      "text/html": [
       "<div>\n",
       "<style scoped>\n",
       "    .dataframe tbody tr th:only-of-type {\n",
       "        vertical-align: middle;\n",
       "    }\n",
       "\n",
       "    .dataframe tbody tr th {\n",
       "        vertical-align: top;\n",
       "    }\n",
       "\n",
       "    .dataframe thead th {\n",
       "        text-align: right;\n",
       "    }\n",
       "</style>\n",
       "<table border=\"1\" class=\"dataframe\">\n",
       "  <thead>\n",
       "    <tr style=\"text-align: right;\">\n",
       "      <th></th>\n",
       "      <th>week</th>\n",
       "      <th>claims</th>\n",
       "      <th>trend.unemploy</th>\n",
       "      <th>trend.filling</th>\n",
       "      <th>trend.job</th>\n",
       "      <th>sp500</th>\n",
       "      <th>vix</th>\n",
       "    </tr>\n",
       "  </thead>\n",
       "  <tbody>\n",
       "    <tr>\n",
       "      <th>391</th>\n",
       "      <td>2017-07-02</td>\n",
       "      <td>12.440694</td>\n",
       "      <td>0.219882</td>\n",
       "      <td>0.104405</td>\n",
       "      <td>-0.079668</td>\n",
       "      <td>0.332886</td>\n",
       "      <td>-0.359894</td>\n",
       "    </tr>\n",
       "    <tr>\n",
       "      <th>392</th>\n",
       "      <td>2017-07-09</td>\n",
       "      <td>12.557887</td>\n",
       "      <td>0.252143</td>\n",
       "      <td>0.032946</td>\n",
       "      <td>0.029532</td>\n",
       "      <td>0.346844</td>\n",
       "      <td>-0.522570</td>\n",
       "    </tr>\n",
       "    <tr>\n",
       "      <th>393</th>\n",
       "      <td>2017-07-16</td>\n",
       "      <td>12.459796</td>\n",
       "      <td>0.186546</td>\n",
       "      <td>0.069313</td>\n",
       "      <td>-0.005560</td>\n",
       "      <td>0.352226</td>\n",
       "      <td>-0.538469</td>\n",
       "    </tr>\n",
       "    <tr>\n",
       "      <th>394</th>\n",
       "      <td>2017-07-23</td>\n",
       "      <td>12.303449</td>\n",
       "      <td>0.169451</td>\n",
       "      <td>0.032946</td>\n",
       "      <td>0.029532</td>\n",
       "      <td>0.352048</td>\n",
       "      <td>-0.443742</td>\n",
       "    </tr>\n",
       "    <tr>\n",
       "      <th>395</th>\n",
       "      <td>2017-07-30</td>\n",
       "      <td>12.199934</td>\n",
       "      <td>0.186546</td>\n",
       "      <td>0.051295</td>\n",
       "      <td>0.052260</td>\n",
       "      <td>0.353959</td>\n",
       "      <td>-0.469334</td>\n",
       "    </tr>\n",
       "  </tbody>\n",
       "</table>\n",
       "</div>"
      ],
      "text/plain": [
       "          week     claims  trend.unemploy  trend.filling  trend.job     sp500  \\\n",
       "391 2017-07-02  12.440694        0.219882       0.104405  -0.079668  0.332886   \n",
       "392 2017-07-09  12.557887        0.252143       0.032946   0.029532  0.346844   \n",
       "393 2017-07-16  12.459796        0.186546       0.069313  -0.005560  0.352226   \n",
       "394 2017-07-23  12.303449        0.169451       0.032946   0.029532  0.352048   \n",
       "395 2017-07-30  12.199934        0.186546       0.051295   0.052260  0.353959   \n",
       "\n",
       "          vix  \n",
       "391 -0.359894  \n",
       "392 -0.522570  \n",
       "393 -0.538469  \n",
       "394 -0.443742  \n",
       "395 -0.469334  "
      ]
     },
     "execution_count": 3,
     "metadata": {},
     "output_type": "execute_result"
    }
   ],
   "source": [
    "df = load_iclaims()\n",
    "\n",
    "# train-test split\n",
    "test_size = 52\n",
    "train_df = df[:-test_size]\n",
    "test_df = df[-test_size:]\n",
    "\n",
    "test_df.head()"
   ]
  },
  {
   "cell_type": "markdown",
   "id": "8af02bc9",
   "metadata": {},
   "source": [
    "## 2. Example usage of native `orbit` flavor and `pyfunc` flavor"
   ]
  },
  {
   "cell_type": "markdown",
   "id": "016c579c",
   "metadata": {},
   "source": [
    "### 2.1 Train and save model"
   ]
  },
  {
   "cell_type": "code",
   "execution_count": 4,
   "id": "de3ceea5",
   "metadata": {},
   "outputs": [
    {
     "name": "stderr",
     "output_type": "stream",
     "text": [
      "INFO:orbit:Sampling (PyStan) with chains: 4, cores: 8, temperature: 1.000, warmups (per chain): 225 and samples(per chain): 25.\n",
      "WARNING:pystan:Maximum (flat) parameter count (1000) exceeded: skipping diagnostic tests for n_eff and Rhat.\n",
      "To run all diagnostics call pystan.check_hmc_diagnostics(fit)\n",
      "2023/01/14 19:19:49 WARNING mlflow.utils.environment: Encountered an unexpected error while inferring pip requirements (model URI: model/model.pkl, flavor: orbit), fall back to return ['orbit==1.1.3']. Set logging level to DEBUG to see the full traceback.\n",
      "/home/benjamin/PycharmProjects/mlflow_flavors/.venv/lib/python3.8/site-packages/_distutils_hack/__init__.py:33: UserWarning: Setuptools is replacing distutils.\n",
      "  warnings.warn(\"Setuptools is replacing distutils.\")\n"
     ]
    }
   ],
   "source": [
    "#with mlflow.start_run():\n",
    "#\n",
    "#    dlt = DLT(\n",
    "#        response_col=\"claims\",\n",
    "#        date_col=\"week\",\n",
    "#        regressor_col=[\"trend.unemploy\", \"trend.filling\", \"trend.job\"],\n",
    "#        seasonality=52,\n",
    "#    )\n",
    "#    dlt.fit(df=train_df)\n",
    "#    dlt.pyfunc_predict_conf = pyfunc_predict_conf\n",
    "#\n",
    "#    mlflow_flavors.orbit.save_model(dlt, model_path)"
   ]
  },
  {
   "cell_type": "markdown",
   "id": "9f33d80e",
   "metadata": {},
   "source": [
    "### 2.2 Load model\n",
    "#### 2.2.1 Native orbit flavor"
   ]
  },
  {
   "cell_type": "code",
   "execution_count": 5,
   "id": "f98844eb",
   "metadata": {},
   "outputs": [],
   "source": [
    "#loaded_model = mlflow_flavors.orbit.load_model(model_path)"
   ]
  },
  {
   "cell_type": "markdown",
   "id": "a06636bf",
   "metadata": {},
   "source": [
    "#### 2.2.1 Pyfunc flavor"
   ]
  },
  {
   "cell_type": "code",
   "execution_count": 6,
   "id": "fb70d5d7",
   "metadata": {},
   "outputs": [],
   "source": [
    "#loaded_pyfunc = mlflow_flavors.orbit.pyfunc.load_model(model_path)"
   ]
  },
  {
   "cell_type": "markdown",
   "id": "78d129a7",
   "metadata": {},
   "source": [
    "### 2.3 Generate predictions\n",
    "#### 2.3.1 Native orbit flavor"
   ]
  },
  {
   "cell_type": "code",
   "execution_count": 7,
   "id": "b162ebd6",
   "metadata": {},
   "outputs": [
    {
     "data": {
      "text/html": [
       "<div>\n",
       "<style scoped>\n",
       "    .dataframe tbody tr th:only-of-type {\n",
       "        vertical-align: middle;\n",
       "    }\n",
       "\n",
       "    .dataframe tbody tr th {\n",
       "        vertical-align: top;\n",
       "    }\n",
       "\n",
       "    .dataframe thead th {\n",
       "        text-align: right;\n",
       "    }\n",
       "</style>\n",
       "<table border=\"1\" class=\"dataframe\">\n",
       "  <thead>\n",
       "    <tr style=\"text-align: right;\">\n",
       "      <th></th>\n",
       "      <th>week</th>\n",
       "      <th>prediction_5</th>\n",
       "      <th>prediction</th>\n",
       "      <th>prediction_95</th>\n",
       "      <th>trend_5</th>\n",
       "      <th>trend</th>\n",
       "      <th>trend_95</th>\n",
       "      <th>seasonality_5</th>\n",
       "      <th>seasonality</th>\n",
       "      <th>seasonality_95</th>\n",
       "      <th>regression_5</th>\n",
       "      <th>regression</th>\n",
       "      <th>regression_95</th>\n",
       "    </tr>\n",
       "  </thead>\n",
       "  <tbody>\n",
       "    <tr>\n",
       "      <th>0</th>\n",
       "      <td>2017-07-02</td>\n",
       "      <td>12.329969</td>\n",
       "      <td>12.415831</td>\n",
       "      <td>12.505553</td>\n",
       "      <td>12.249114</td>\n",
       "      <td>12.337002</td>\n",
       "      <td>12.435567</td>\n",
       "      <td>0.023342</td>\n",
       "      <td>0.054511</td>\n",
       "      <td>0.076124</td>\n",
       "      <td>0.004599</td>\n",
       "      <td>0.026254</td>\n",
       "      <td>0.039776</td>\n",
       "    </tr>\n",
       "    <tr>\n",
       "      <th>1</th>\n",
       "      <td>2017-07-09</td>\n",
       "      <td>12.426513</td>\n",
       "      <td>12.534631</td>\n",
       "      <td>12.623807</td>\n",
       "      <td>12.234586</td>\n",
       "      <td>12.345293</td>\n",
       "      <td>12.444151</td>\n",
       "      <td>0.146387</td>\n",
       "      <td>0.179109</td>\n",
       "      <td>0.204080</td>\n",
       "      <td>0.007272</td>\n",
       "      <td>0.014737</td>\n",
       "      <td>0.022364</td>\n",
       "    </tr>\n",
       "    <tr>\n",
       "      <th>2</th>\n",
       "      <td>2017-07-16</td>\n",
       "      <td>12.299631</td>\n",
       "      <td>12.376752</td>\n",
       "      <td>12.470228</td>\n",
       "      <td>12.246894</td>\n",
       "      <td>12.329269</td>\n",
       "      <td>12.441898</td>\n",
       "      <td>-0.000433</td>\n",
       "      <td>0.031216</td>\n",
       "      <td>0.051681</td>\n",
       "      <td>0.006270</td>\n",
       "      <td>0.016838</td>\n",
       "      <td>0.024393</td>\n",
       "    </tr>\n",
       "    <tr>\n",
       "      <th>3</th>\n",
       "      <td>2017-07-23</td>\n",
       "      <td>12.121754</td>\n",
       "      <td>12.222322</td>\n",
       "      <td>12.329275</td>\n",
       "      <td>12.222615</td>\n",
       "      <td>12.331567</td>\n",
       "      <td>12.453743</td>\n",
       "      <td>-0.143769</td>\n",
       "      <td>-0.112244</td>\n",
       "      <td>-0.092680</td>\n",
       "      <td>0.004225</td>\n",
       "      <td>0.010565</td>\n",
       "      <td>0.017122</td>\n",
       "    </tr>\n",
       "    <tr>\n",
       "      <th>4</th>\n",
       "      <td>2017-07-30</td>\n",
       "      <td>12.077165</td>\n",
       "      <td>12.177895</td>\n",
       "      <td>12.287542</td>\n",
       "      <td>12.218419</td>\n",
       "      <td>12.322874</td>\n",
       "      <td>12.428633</td>\n",
       "      <td>-0.184385</td>\n",
       "      <td>-0.154620</td>\n",
       "      <td>-0.132869</td>\n",
       "      <td>0.004059</td>\n",
       "      <td>0.011917</td>\n",
       "      <td>0.020557</td>\n",
       "    </tr>\n",
       "  </tbody>\n",
       "</table>\n",
       "</div>"
      ],
      "text/plain": [
       "        week  prediction_5  prediction  prediction_95    trend_5      trend  \\\n",
       "0 2017-07-02     12.329969   12.415831      12.505553  12.249114  12.337002   \n",
       "1 2017-07-09     12.426513   12.534631      12.623807  12.234586  12.345293   \n",
       "2 2017-07-16     12.299631   12.376752      12.470228  12.246894  12.329269   \n",
       "3 2017-07-23     12.121754   12.222322      12.329275  12.222615  12.331567   \n",
       "4 2017-07-30     12.077165   12.177895      12.287542  12.218419  12.322874   \n",
       "\n",
       "    trend_95  seasonality_5  seasonality  seasonality_95  regression_5  \\\n",
       "0  12.435567       0.023342     0.054511        0.076124      0.004599   \n",
       "1  12.444151       0.146387     0.179109        0.204080      0.007272   \n",
       "2  12.441898      -0.000433     0.031216        0.051681      0.006270   \n",
       "3  12.453743      -0.143769    -0.112244       -0.092680      0.004225   \n",
       "4  12.428633      -0.184385    -0.154620       -0.132869      0.004059   \n",
       "\n",
       "   regression  regression_95  \n",
       "0    0.026254       0.039776  \n",
       "1    0.014737       0.022364  \n",
       "2    0.016838       0.024393  \n",
       "3    0.010565       0.017122  \n",
       "4    0.011917       0.020557  "
      ]
     },
     "execution_count": 7,
     "metadata": {},
     "output_type": "execute_result"
    }
   ],
   "source": [
    "#loaded_model.predict(test_df, decompose=True, seed=43).head()"
   ]
  },
  {
   "cell_type": "markdown",
   "id": "26e48d84",
   "metadata": {},
   "source": [
    "#### 2.3.1 Pyfunc flavor"
   ]
  },
  {
   "cell_type": "code",
   "execution_count": 8,
   "id": "40e0ba9d",
   "metadata": {},
   "outputs": [
    {
     "data": {
      "text/html": [
       "<div>\n",
       "<style scoped>\n",
       "    .dataframe tbody tr th:only-of-type {\n",
       "        vertical-align: middle;\n",
       "    }\n",
       "\n",
       "    .dataframe tbody tr th {\n",
       "        vertical-align: top;\n",
       "    }\n",
       "\n",
       "    .dataframe thead th {\n",
       "        text-align: right;\n",
       "    }\n",
       "</style>\n",
       "<table border=\"1\" class=\"dataframe\">\n",
       "  <thead>\n",
       "    <tr style=\"text-align: right;\">\n",
       "      <th></th>\n",
       "      <th>week</th>\n",
       "      <th>prediction_5</th>\n",
       "      <th>prediction</th>\n",
       "      <th>prediction_95</th>\n",
       "      <th>trend_5</th>\n",
       "      <th>trend</th>\n",
       "      <th>trend_95</th>\n",
       "      <th>seasonality_5</th>\n",
       "      <th>seasonality</th>\n",
       "      <th>seasonality_95</th>\n",
       "      <th>regression_5</th>\n",
       "      <th>regression</th>\n",
       "      <th>regression_95</th>\n",
       "    </tr>\n",
       "  </thead>\n",
       "  <tbody>\n",
       "    <tr>\n",
       "      <th>0</th>\n",
       "      <td>2017-07-02</td>\n",
       "      <td>12.329969</td>\n",
       "      <td>12.415831</td>\n",
       "      <td>12.505553</td>\n",
       "      <td>12.249114</td>\n",
       "      <td>12.337002</td>\n",
       "      <td>12.435567</td>\n",
       "      <td>0.023342</td>\n",
       "      <td>0.054511</td>\n",
       "      <td>0.076124</td>\n",
       "      <td>0.004599</td>\n",
       "      <td>0.026254</td>\n",
       "      <td>0.039776</td>\n",
       "    </tr>\n",
       "    <tr>\n",
       "      <th>1</th>\n",
       "      <td>2017-07-09</td>\n",
       "      <td>12.426513</td>\n",
       "      <td>12.534631</td>\n",
       "      <td>12.623807</td>\n",
       "      <td>12.234586</td>\n",
       "      <td>12.345293</td>\n",
       "      <td>12.444151</td>\n",
       "      <td>0.146387</td>\n",
       "      <td>0.179109</td>\n",
       "      <td>0.204080</td>\n",
       "      <td>0.007272</td>\n",
       "      <td>0.014737</td>\n",
       "      <td>0.022364</td>\n",
       "    </tr>\n",
       "    <tr>\n",
       "      <th>2</th>\n",
       "      <td>2017-07-16</td>\n",
       "      <td>12.299631</td>\n",
       "      <td>12.376752</td>\n",
       "      <td>12.470228</td>\n",
       "      <td>12.246894</td>\n",
       "      <td>12.329269</td>\n",
       "      <td>12.441898</td>\n",
       "      <td>-0.000433</td>\n",
       "      <td>0.031216</td>\n",
       "      <td>0.051681</td>\n",
       "      <td>0.006270</td>\n",
       "      <td>0.016838</td>\n",
       "      <td>0.024393</td>\n",
       "    </tr>\n",
       "    <tr>\n",
       "      <th>3</th>\n",
       "      <td>2017-07-23</td>\n",
       "      <td>12.121754</td>\n",
       "      <td>12.222322</td>\n",
       "      <td>12.329275</td>\n",
       "      <td>12.222615</td>\n",
       "      <td>12.331567</td>\n",
       "      <td>12.453743</td>\n",
       "      <td>-0.143769</td>\n",
       "      <td>-0.112244</td>\n",
       "      <td>-0.092680</td>\n",
       "      <td>0.004225</td>\n",
       "      <td>0.010565</td>\n",
       "      <td>0.017122</td>\n",
       "    </tr>\n",
       "    <tr>\n",
       "      <th>4</th>\n",
       "      <td>2017-07-30</td>\n",
       "      <td>12.077165</td>\n",
       "      <td>12.177895</td>\n",
       "      <td>12.287542</td>\n",
       "      <td>12.218419</td>\n",
       "      <td>12.322874</td>\n",
       "      <td>12.428633</td>\n",
       "      <td>-0.184385</td>\n",
       "      <td>-0.154620</td>\n",
       "      <td>-0.132869</td>\n",
       "      <td>0.004059</td>\n",
       "      <td>0.011917</td>\n",
       "      <td>0.020557</td>\n",
       "    </tr>\n",
       "  </tbody>\n",
       "</table>\n",
       "</div>"
      ],
      "text/plain": [
       "        week  prediction_5  prediction  prediction_95    trend_5      trend  \\\n",
       "0 2017-07-02     12.329969   12.415831      12.505553  12.249114  12.337002   \n",
       "1 2017-07-09     12.426513   12.534631      12.623807  12.234586  12.345293   \n",
       "2 2017-07-16     12.299631   12.376752      12.470228  12.246894  12.329269   \n",
       "3 2017-07-23     12.121754   12.222322      12.329275  12.222615  12.331567   \n",
       "4 2017-07-30     12.077165   12.177895      12.287542  12.218419  12.322874   \n",
       "\n",
       "    trend_95  seasonality_5  seasonality  seasonality_95  regression_5  \\\n",
       "0  12.435567       0.023342     0.054511        0.076124      0.004599   \n",
       "1  12.444151       0.146387     0.179109        0.204080      0.007272   \n",
       "2  12.441898      -0.000433     0.031216        0.051681      0.006270   \n",
       "3  12.453743      -0.143769    -0.112244       -0.092680      0.004225   \n",
       "4  12.428633      -0.184385    -0.154620       -0.132869      0.004059   \n",
       "\n",
       "   regression  regression_95  \n",
       "0    0.026254       0.039776  \n",
       "1    0.014737       0.022364  \n",
       "2    0.016838       0.024393  \n",
       "3    0.010565       0.017122  \n",
       "4    0.011917       0.020557  "
      ]
     },
     "execution_count": 8,
     "metadata": {},
     "output_type": "execute_result"
    }
   ],
   "source": [
    "#loaded_pyfunc.predict(test_df).head()"
   ]
  },
  {
   "cell_type": "markdown",
   "id": "a00eeeb5",
   "metadata": {},
   "source": [
    "## 3. Model deployment example\n",
    "### 3.1 Create experiment"
   ]
  },
  {
   "cell_type": "code",
   "execution_count": 9,
   "id": "03579da9",
   "metadata": {},
   "outputs": [
    {
     "name": "stderr",
     "output_type": "stream",
     "text": [
      "2023/01/14 19:19:49 INFO mlflow.tracking.fluent: Experiment with name 'Test Orbit' does not exist. Creating a new experiment.\n",
      "INFO:orbit:Sampling (PyStan) with chains: 4, cores: 8, temperature: 1.000, warmups (per chain): 225 and samples(per chain): 25.\n",
      "WARNING:pystan:Maximum (flat) parameter count (1000) exceeded: skipping diagnostic tests for n_eff and Rhat.\n",
      "To run all diagnostics call pystan.check_hmc_diagnostics(fit)\n",
      "2023/01/14 19:19:56 WARNING mlflow.utils.environment: Encountered an unexpected error while inferring pip requirements (model URI: /tmp/tmpu9przqsq/model/model.pkl, flavor: orbit), fall back to return ['orbit==1.1.3']. Set logging level to DEBUG to see the full traceback.\n"
     ]
    },
    {
     "name": "stdout",
     "output_type": "stream",
     "text": [
      "MLflow run id: bf1700f7b1564e89a049e65033e4718f\n"
     ]
    }
   ],
   "source": [
    "#mlflow.set_experiment(\"Test Orbit\")\n",
    "#\n",
    "#with mlflow.start_run() as run:\n",
    "#\n",
    "#    dlt = DLT(\n",
    "#        response_col=\"claims\",\n",
    "#        date_col=\"week\",\n",
    "#        regressor_col=[\"trend.unemploy\", \"trend.filling\", \"trend.job\"],\n",
    "#        seasonality=52,\n",
    "#    )\n",
    "#    dlt.fit(df=train_df)\n",
    "#    dlt.pyfunc_predict_conf = pyfunc_predict_conf\n",
    "#    \n",
    "#    # Need to include a model signature, so MLflow can automatically decode datetime from JSON\n",
    "#    prediction = dlt.predict(test_df)\n",
    "#    signature = infer_signature(test_df, prediction)\n",
    "#\n",
    "#    mlflow_flavors.orbit.log_model(\n",
    "#        orbit_model=dlt, \n",
    "#        artifact_path=model_path, \n",
    "#        signature=signature\n",
    "#    )\n",
    "#\n",
    "#run_id = run.info.run_id\n",
    "#print(f\"MLflow run id: {run_id}\")"
   ]
  },
  {
   "cell_type": "markdown",
   "id": "ee96eb61",
   "metadata": {},
   "source": [
    "### 3.2 Deploy pyfunc model to local REST API endpoint\n",
    "- Open a terminal window and cd into `examples` directory\n",
    "- In the terminal run: `mlflow models serve -m runs:/<run_id>/model --env-manager local --host <host>` \n",
    "  - where you substitute `<run_id>` by the above run id and ` <host>` by the network address to listen on (e.g. 127.0.0.1)\n",
    "- More details here: https://www.mlflow.org/docs/latest/cli.html#mlflow-models-serve"
   ]
  },
  {
   "cell_type": "markdown",
   "id": "705e9fff",
   "metadata": {},
   "source": [
    "### 3.3 Request predictions from local REST API endpoint\n",
    "- For mor details see: https://www.mlflow.org/docs/latest/models.html#built-in-deployment-tools"
   ]
  },
  {
   "cell_type": "markdown",
   "id": "7ab81a40",
   "metadata": {},
   "source": [
    " #### 3.3.1 JSON input using `dataframe_split` field with pandas DataFrame in the `split` orientation"
   ]
  },
  {
   "cell_type": "code",
   "execution_count": 10,
   "id": "cc0c46e8",
   "metadata": {},
   "outputs": [
    {
     "name": "stdout",
     "output_type": "stream",
     "text": [
      "{'dataframe_split': {'index': [391, 392, 393, 394, 395, 396, 397, 398, 399, 400, 401, 402, 403, 404, 405, 406, 407, 408, 409, 410, 411, 412, 413, 414, 415, 416, 417, 418, 419, 420, 421, 422, 423, 424, 425, 426, 427, 428, 429, 430, 431, 432, 433, 434, 435, 436, 437, 438, 439, 440, 441, 442], 'columns': ['week', 'claims', 'trend.unemploy', 'trend.filling', 'trend.job', 'sp500', 'vix'], 'data': [['2017-07-02T00:00:00Z', 12.440694073276802, 0.2198822097372032, 0.10440466214148683, -0.07966760228529879, 0.33288558827713377, -0.3598938037166164], ['2017-07-09T00:00:00Z', 12.557887297361319, 0.25214307175432615, 0.03294569879956064, 0.029531690167316674, 0.3468444339482888, -0.5225704494831511], ['2017-07-16T00:00:00Z', 12.459795837076777, 0.18654578968434388, 0.06931334216775525, -0.005559630131576962, 0.35222584599204776, -0.5384690355509494], ['2017-07-23T00:00:00Z', 12.303448871408895, 0.1694513559938128, 0.03294569879956064, 0.029531690167316674, 0.35204789937147574, -0.44374177619449195], ['2017-07-30T00:00:00Z', 12.199933841570763, 0.18654578968434388, 0.05129483657941554, 0.052259940598360616, 0.35395941611227677, -0.469333724066606], ['2017-08-06T00:00:00Z', 12.263982998815008, 0.13436003640461802, 0.06931334216775525, 0.052259940598360616, 0.33951877236396744, -0.03342934885200277], ['2017-08-13T00:00:00Z', 12.19743545213451, 0.11634153055065716, -0.024212715270311776, 0.040960386146092514, 0.3330381908759872, -0.11745591105430009], ['2017-08-20T00:00:00Z', 12.181421282089044, 0.0408339785200726, -0.024212715270311776, -0.005559630131576962, 0.34022714663983145, -0.35188307997053725], ['2017-08-27T00:00:00Z', 12.187027431324267, 0.18654578968434388, -0.06421805005293446, -0.005559630131576962, 0.35384635028929523, -0.45941300777985816], ['2017-09-03T00:00:00Z', 12.431721057061006, 0.11634153055065716, 0.03294569879956064, -0.05434979394748189, 0.34772232211858434, -0.28005734539928184], ['2017-09-10T00:00:00Z', 12.263978280131143, 0.0979923924722683, -0.024212715270311776, 0.01797086760747961, 0.36336258752054373, -0.4554721159799815], ['2017-09-17T00:00:00Z', 12.265816879919301, 0.11634153055065716, 0.03294569879956064, 0.006274827681791701, 0.36415819412309336, -0.5141934371451033], ['2017-09-24T00:00:00Z', 12.268986409965132, 0.0979923924722683, 0.05129483657941554, -0.005559630131576962, 0.37098481136246164, -0.5225704494831511], ['2017-10-01T00:00:00Z', 12.226757236723007, 0.11634153055065716, 0.03294569879956064, -0.029657181020828476, 0.38281047802242174, -0.5079564106895553], ['2017-10-08T00:00:00Z', 12.342529130896606, 0.13436003640461802, 0.06931334216775525, 0.01797086760747961, 0.3843155616970355, -0.5121101030582489], ['2017-10-15T00:00:00Z', 12.233648901300278, 0.1520596129390907, 0.08701291934981212, -0.029657181020828476, 0.3929109369214574, -0.4753337420667032], ['2017-10-22T00:00:00Z', 12.283052205013355, 0.13436003640461802, 0.08701291934981212, -0.017535821348667064, 0.3951839358625824, -0.49253194036392367], ['2017-10-29T00:00:00Z', 12.282927199515266, 0.1694513559938128, 0.06931334216775525, -0.05434979394748189, 0.3978034528079064, -0.5622539405743914], ['2017-11-05T00:00:00Z', 12.397151577664319, 0.11634153055065716, 0.06931334216775525, -0.04192727377870797, 0.395660361528531, -0.3509969478788797], ['2017-11-12T00:00:00Z', 12.374354437790322, 0.18654578968434388, 0.21834892198058856, -0.029657181020828476, 0.39432346900823045, -0.3386728482337307], ['2017-11-19T00:00:00Z', 12.52454092199747, 0.021031350840007536, 0.6390815020145394, -0.2774933447314009, 0.4034216192664122, -0.5058860165752472], ['2017-11-26T00:00:00Z', 12.323193239598348, 0.2198822097372032, -0.044015342649264017, -0.017535821348667064, 0.41859932978494374, -0.3386728482337307], ['2017-12-03T00:00:00Z', 12.694615849855396, 0.2678914290291406, 0.03294569879956064, -0.029657181020828476, 0.4221053854724408, -0.5152367340576811], ['2017-12-10T00:00:00Z', 12.549694264304598, 0.2678914290291406, 0.10440466214148683, -0.11888831487293673, 0.4312320281772788, -0.5320792374521783], ['2017-12-17T00:00:00Z', 12.568616334645725, 0.29866308750073733, 0.24865427080950822, -0.21686872338286955, 0.43404218790366755, -0.48237956889990574], ['2017-12-24T00:00:00Z', 12.691451222191628, 0.32851605046674126, 0.23361639417287747, -0.35883898530885044, 0.43040952702546953, -0.37338928519150105], ['2017-12-31T00:00:00Z', 12.769532464274556, 0.5034574999443655, 0.06931334216775525, -0.09257100730485714, 0.4560867272641964, -0.5535392884719474], ['2018-01-07T00:00:00Z', 12.908226642666717, 0.5278489535436591, 0.05129483657941554, 0.029531690167316674, 0.4716728809464401, -0.45645588389011404], ['2018-01-14T00:00:00Z', 12.77719342507992, 0.4657171718636619, 0.03294569879956064, 0.006274827681791701, 0.4802711245261344, -0.3527699979887653], ['2018-01-21T00:00:00Z', 12.468706104530796, 0.5278489535436591, 0.10440466214148683, 0.029531690167316674, 0.5022914387078306, -0.3697726447213121], ['2018-01-28T00:00:00Z', 12.497868743760831, 0.5398251442061072, 0.08701291934981212, 0.029531690167316674, 0.46298194674075077, 0.07637004314766793], ['2018-02-04T00:00:00Z', 12.400660331493453, 0.34311485017339205, 0.05129483657941554, 0.01797086760747961, 0.4099824338790068, 0.5944483321016869], ['2018-02-11T00:00:00Z', 12.357956472272008, 0.2678914290291406, 0.10440466214148683, -0.04192727377870797, 0.45209432281610873, 0.1934467507174089], ['2018-02-18T00:00:00Z', 12.265345766244993, 0.25214307175432615, 0.05129483657941554, -0.029657181020828476, 0.4575984969105642, 0.02783981053105755], ['2018-02-25T00:00:00Z', 12.185517835415412, 0.23614273009131706, 0.03294569879956064, 0.01797086760747961, 0.43698563757382924, 0.20010490591599916], ['2018-03-04T00:00:00Z', 12.326133085930598, 0.20335290746222404, 0.05129483657941554, 0.029531690167316674, 0.4717913411117616, -0.09115681750728433], ['2018-03-11T00:00:00Z', 12.230091860707685, 0.1520596129390907, 0.08701291934981212, -0.029657181020828476, 0.45931142529652647, -0.01490438600752908], ['2018-03-18T00:00:00Z', 12.19900271234581, 0.1520596129390907, 0.08701291934981212, 0.01797086760747961, 0.39796570701202594, 0.43874793177486326], ['2018-03-25T00:00:00Z', 12.182676067723778, 0.1694513559938128, 0.20284473538120076, -0.017535821348667064, 0.418088320505567, 0.21931682138727382], ['2018-04-01T00:00:00Z', 12.211040286345684, 0.20335290746222404, 0.06931334216775525, 0.01797086760747961, 0.40420905635383164, 0.29267338461396886], ['2018-04-08T00:00:00Z', 12.353306602744034, 0.20335290746222404, 0.03294569879956064, 0.006274827681791701, 0.42391406336694537, 0.08213042773964752], ['2018-04-15T00:00:00Z', 12.328688429070361, 0.18654578968434388, 0.06931334216775525, 0.006274827681791701, 0.42911073329903626, 0.05121516312736096], ['2018-04-22T00:00:00Z', 12.206767404129517, 0.1520596129390907, -0.004794629333621219, 0.006274827681791701, 0.4290245988963468, -0.03989767670842559], ['2018-04-29T00:00:00Z', 12.13592374896078, 0.1694513559938128, -0.024212715270311776, 0.01797086760747961, 0.4265908498482194, -0.08231622949716177], ['2018-05-06T00:00:00Z', 12.15615734863624, 0.11634153055065716, 0.06931334216775525, 0.01797086760747961, 0.450445952663058, -0.23725711086692058], ['2018-05-13T00:00:00Z', 12.181851671700754, 0.07930025910007774, -0.004794629333621219, 0.01797086760747961, 0.4450238329341394, -0.17816819449691446], ['2018-05-20T00:00:00Z', 12.240681780143326, 0.0408339785200726, 0.03294569879956064, 0.052259940598360616, 0.44810062792882643, -0.19318349161690973], ['2018-05-27T00:00:00Z', 12.220202349435981, 0.11634153055065716, -0.004794629333621219, 0.052259940598360616, 0.45297239721213245, -0.17519200182386818], ['2018-06-03T00:00:00Z', 12.162763184829519, 0.13436003640461802, 0.014253565713658874, 0.052259940598360616, 0.4690818242648769, -0.2751190637586993], ['2018-06-10T00:00:00Z', 12.288983543702292, 0.13436003640461802, 0.10440466214148683, 0.06343324135537455, 0.46930845428359813, -0.2916757333531468], ['2018-06-17T00:00:00Z', 12.235743092024704, 0.0979923924722683, 0.10440466214148683, 0.029531690167316674, 0.4603537098947559, -0.15242201329988658], ['2018-06-24T00:00:00Z', 12.31387717215861, 0.1694513559938128, 0.08701291934981212, 0.052259940598360616, 0.44701234688905256, 0.003283634963841653]]}}\n"
     ]
    }
   ],
   "source": [
    "#host = \"127.0.0.1\"\n",
    "#url = f\"http://{host}:5000/invocations\"\n",
    "#\n",
    "## Transform datetime column according to: https://mlflow.org/docs/latest/models.html#encoding-complex-data\n",
    "#test_df_serializable = test_df.copy()\n",
    "#test_df_serializable[\"week\"] = test_df_serializable[\"week\"].dt.strftime('%Y-%m-%dT%H:%M:%SZ')\n",
    "#json_data = {\"dataframe_split\": test_df_serializable.to_dict(orient=\"split\")}\n",
    "#print(json_data)\n",
    "\n",
    "# # Un-comment the below lines to run the prediction request\n",
    "# import requests\n",
    "# response = requests.post(url, json=json_data)\n",
    "# response.json()"
   ]
  }
 ],
 "metadata": {
  "kernelspec": {
   "display_name": ".venv",
   "language": "python",
   "name": ".venv"
  },
  "language_info": {
   "codemirror_mode": {
    "name": "ipython",
    "version": 3
   },
   "file_extension": ".py",
   "mimetype": "text/x-python",
   "name": "python",
   "nbconvert_exporter": "python",
   "pygments_lexer": "ipython3",
   "version": "3.8.0"
  }
 },
 "nbformat": 4,
 "nbformat_minor": 5
}
